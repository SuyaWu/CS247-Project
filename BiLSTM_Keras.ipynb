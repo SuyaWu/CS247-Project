{
 "cells": [
  {
   "cell_type": "code",
   "execution_count": 6,
   "metadata": {
    "colab": {
     "base_uri": "https://localhost:8080/"
    },
    "executionInfo": {
     "elapsed": 15837,
     "status": "ok",
     "timestamp": 1622185357902,
     "user": {
      "displayName": "Zhaoyi Huang",
      "photoUrl": "",
      "userId": "07120073316656133052"
     },
     "user_tz": 420
    },
    "id": "Pw3epcs7x9yr",
    "outputId": "a569d55e-b1b7-44b9-e29b-d0b9829e0ef9"
   },
   "outputs": [
    {
     "name": "stdout",
     "output_type": "stream",
     "text": [
      "Mounted at /content/drive\n"
     ]
    }
   ],
   "source": [
    "#from google.colab import drive\n",
    "#drive.mount('/content/drive')"
   ]
  },
  {
   "cell_type": "code",
   "execution_count": 7,
   "metadata": {
    "executionInfo": {
     "elapsed": 189,
     "status": "ok",
     "timestamp": 1622185392933,
     "user": {
      "displayName": "Zhaoyi Huang",
      "photoUrl": "",
      "userId": "07120073316656133052"
     },
     "user_tz": 420
    },
    "id": "reHLNiQ70_jZ"
   },
   "outputs": [],
   "source": [
    "from tensorflow.keras.preprocessing.text import Tokenizer\n",
    "from tensorflow.keras.preprocessing.sequence import pad_sequences\n",
    "import tensorflow as tf\n",
    "from sklearn.model_selection import train_test_split\n",
    "import numpy as np\n",
    "import pandas as pd"
   ]
  },
  {
   "cell_type": "code",
   "execution_count": 8,
   "metadata": {
    "executionInfo": {
     "elapsed": 4840,
     "status": "ok",
     "timestamp": 1622185399847,
     "user": {
      "displayName": "Zhaoyi Huang",
      "photoUrl": "",
      "userId": "07120073316656133052"
     },
     "user_tz": 420
    },
    "id": "38abFt4bibY4"
   },
   "outputs": [],
   "source": [
    "train_data = pd.read_csv('./data/splited_train.csv')\n",
    "test_data = pd.read_csv('./data/splited_test.csv')\n"
   ]
  },
  {
   "cell_type": "code",
   "execution_count": 9,
   "metadata": {
    "executionInfo": {
     "elapsed": 19,
     "status": "ok",
     "timestamp": 1622185399848,
     "user": {
      "displayName": "Zhaoyi Huang",
      "photoUrl": "",
      "userId": "07120073316656133052"
     },
     "user_tz": 420
    },
    "id": "As7F7E6fjqUC"
   },
   "outputs": [],
   "source": [
    "train_input = list(train_data['question_text'])\n",
    "train_label = list(train_data['target'])\n",
    "\n",
    "test_input = list(test_data['question_text'])"
   ]
  },
  {
   "cell_type": "code",
   "execution_count": 10,
   "metadata": {
    "colab": {
     "base_uri": "https://localhost:8080/"
    },
    "executionInfo": {
     "elapsed": 20,
     "status": "ok",
     "timestamp": 1622185399850,
     "user": {
      "displayName": "Zhaoyi Huang",
      "photoUrl": "",
      "userId": "07120073316656133052"
     },
     "user_tz": 420
    },
    "id": "q7OD7O3ojudW",
    "outputId": "4e4fa49b-e79e-4110-f434-d2853ca661a0"
   },
   "outputs": [
    {
     "name": "stdout",
     "output_type": "stream",
     "text": [
      "[nltk_data] Downloading package stopwords to /root/nltk_data...\n",
      "[nltk_data]   Unzipping corpora/stopwords.zip.\n"
     ]
    }
   ],
   "source": [
    "\n",
    "#remove all the stop words for the \n",
    "import nltk\n",
    "nltk.download('stopwords')\n",
    "from nltk.corpus import stopwords\n",
    "stop=stopwords.words('english') \n",
    "\n",
    "def remove_stop_words(x):\n",
    "    for word in stop:\n",
    "        token = \" \" + word + \" \"\n",
    "        if (x.find(token) != -1):\n",
    "            x = x.replace(token, \" \")\n",
    "    return x\n",
    "\n",
    "# train_input_rsw = list(map(remove_stop_words, train_input))\n",
    "# test_input_rsw = list(map(remove_stop_words, test_input))\n",
    "train_input_rsw=train_input\n",
    "test_input_rsw =test_input"
   ]
  },
  {
   "cell_type": "code",
   "execution_count": 11,
   "metadata": {
    "executionInfo": {
     "elapsed": 17,
     "status": "ok",
     "timestamp": 1622185399850,
     "user": {
      "displayName": "Zhaoyi Huang",
      "photoUrl": "",
      "userId": "07120073316656133052"
     },
     "user_tz": 420
    },
    "id": "aWmBKPD1llau"
   },
   "outputs": [],
   "source": [
    "max_features=100000\n",
    "embed_size = 300 \n",
    "max_length = 60 "
   ]
  },
  {
   "cell_type": "code",
   "execution_count": 11,
   "metadata": {
    "executionInfo": {
     "elapsed": 16,
     "status": "ok",
     "timestamp": 1622185399851,
     "user": {
      "displayName": "Zhaoyi Huang",
      "photoUrl": "",
      "userId": "07120073316656133052"
     },
     "user_tz": 420
    },
    "id": "bF_hLNh3loF9"
   },
   "outputs": [],
   "source": [
    "\n"
   ]
  },
  {
   "cell_type": "code",
   "execution_count": 12,
   "metadata": {
    "executionInfo": {
     "elapsed": 148540,
     "status": "ok",
     "timestamp": 1622185548375,
     "user": {
      "displayName": "Zhaoyi Huang",
      "photoUrl": "",
      "userId": "07120073316656133052"
     },
     "user_tz": 420
    },
    "id": "wn5jUZJInZPx"
   },
   "outputs": [],
   "source": [
    "def get_coefs(word,*arr): \n",
    "    return word, np.asarray(arr, dtype='float32')\n",
    "\n",
    "embeddings_index = {}\n",
    "with open(\"./data/embeddings/glove.840B.300d/glove.840B.300d.txt\",'r') as f:\n",
    "    for line in f:\n",
    "        \n",
    "        word,coefs=get_coefs(*line.split(\" \"))\n",
    "        #coefs = np.asarray(coefs, dtype='float32')\n",
    "        embeddings_index[word] = coefs"
   ]
  },
  {
   "cell_type": "code",
   "execution_count": 13,
   "metadata": {
    "executionInfo": {
     "elapsed": 16708,
     "status": "ok",
     "timestamp": 1622185565071,
     "user": {
      "displayName": "Zhaoyi Huang",
      "photoUrl": "",
      "userId": "07120073316656133052"
     },
     "user_tz": 420
    },
    "id": "bp7o_4rvnhMh"
   },
   "outputs": [],
   "source": [
    "tokenizer=Tokenizer(num_words=max_features)\n",
    "\n",
    "tokenizer.fit_on_texts(train_input_rsw)\n",
    "\n",
    "word_index = tokenizer.word_index\n",
    "n_words=min(max_features,len(word_index))\n",
    "\n",
    "embedding_matrix = np.zeros((n_words+1, embed_size))\n",
    "\n",
    "for word, i in word_index.items():\n",
    "    if i >= max_features: \n",
    "        continue\n",
    "    embedding_vector = embeddings_index.get(word)\n",
    "    if embedding_vector is not None: \n",
    "        embedding_matrix[i] = embedding_vector"
   ]
  },
  {
   "cell_type": "code",
   "execution_count": 14,
   "metadata": {
    "colab": {
     "base_uri": "https://localhost:8080/"
    },
    "executionInfo": {
     "elapsed": 21827,
     "status": "ok",
     "timestamp": 1622185586884,
     "user": {
      "displayName": "Zhaoyi Huang",
      "photoUrl": "",
      "userId": "07120073316656133052"
     },
     "user_tz": 420
    },
    "id": "wusi8R48nB_o",
    "outputId": "af55495c-9a08-4f06-e0b8-14129d25369e"
   },
   "outputs": [
    {
     "name": "stdout",
     "output_type": "stream",
     "text": [
      "(1044897, 60)\n",
      "(261225, 60)\n"
     ]
    }
   ],
   "source": [
    "sequences = tokenizer.texts_to_sequences(train_input_rsw)\n",
    "\n",
    "train_input_padded = pad_sequences(sequences, maxlen=max_length, padding='post', truncating='post')\n",
    "print(train_input_padded.shape)\n",
    "\n",
    "sequences = tokenizer.texts_to_sequences(test_input_rsw)\n",
    "test_input_padded = pad_sequences(sequences, maxlen=max_length, padding='post', truncating='post')\n",
    "print(test_input_padded.shape)"
   ]
  },
  {
   "cell_type": "code",
   "execution_count": 15,
   "metadata": {
    "executionInfo": {
     "elapsed": 294,
     "status": "ok",
     "timestamp": 1622185587176,
     "user": {
      "displayName": "Zhaoyi Huang",
      "photoUrl": "",
      "userId": "07120073316656133052"
     },
     "user_tz": 420
    },
    "id": "QUclEQCBolmj"
   },
   "outputs": [],
   "source": [
    "train_text, cv_text, train_target, cv_target = train_test_split(train_input_padded, train_label, test_size = 0.1, random_state=2)"
   ]
  },
  {
   "cell_type": "code",
   "execution_count": 16,
   "metadata": {
    "executionInfo": {
     "elapsed": 204,
     "status": "ok",
     "timestamp": 1622185587378,
     "user": {
      "displayName": "Zhaoyi Huang",
      "photoUrl": "",
      "userId": "07120073316656133052"
     },
     "user_tz": 420
    },
    "id": "TTS6lJ_Zo2Ba"
   },
   "outputs": [],
   "source": [
    "from keras.models import Sequential\n",
    "from keras.layers import Embedding,Bidirectional,LSTM,Dropout,Conv1D,MaxPooling1D,Dense"
   ]
  },
  {
   "cell_type": "code",
   "execution_count": 17,
   "metadata": {
    "colab": {
     "base_uri": "https://localhost:8080/"
    },
    "executionInfo": {
     "elapsed": 4790,
     "status": "ok",
     "timestamp": 1622185592165,
     "user": {
      "displayName": "Zhaoyi Huang",
      "photoUrl": "",
      "userId": "07120073316656133052"
     },
     "user_tz": 420
    },
    "id": "JpC5AcyLo4Ku",
    "outputId": "12e6cd1e-f7f8-4e94-b4ff-463a4f3796e8"
   },
   "outputs": [
    {
     "name": "stdout",
     "output_type": "stream",
     "text": [
      "Model: \"sequential\"\n",
      "_________________________________________________________________\n",
      "Layer (type)                 Output Shape              Param #   \n",
      "=================================================================\n",
      "embedding (Embedding)        (None, 60, 300)           30000300  \n",
      "_________________________________________________________________\n",
      "bidirectional (Bidirectional (None, 60, 512)           1140736   \n",
      "_________________________________________________________________\n",
      "dropout (Dropout)            (None, 60, 512)           0         \n",
      "_________________________________________________________________\n",
      "conv1d (Conv1D)              (None, 56, 100)           256100    \n",
      "_________________________________________________________________\n",
      "max_pooling1d (MaxPooling1D) (None, 14, 100)           0         \n",
      "_________________________________________________________________\n",
      "lstm_1 (LSTM)                (None, 128)               117248    \n",
      "_________________________________________________________________\n",
      "dropout_1 (Dropout)          (None, 128)               0         \n",
      "_________________________________________________________________\n",
      "dense (Dense)                (None, 1)                 129       \n",
      "=================================================================\n",
      "Total params: 31,514,513\n",
      "Trainable params: 1,514,213\n",
      "Non-trainable params: 30,000,300\n",
      "_________________________________________________________________\n"
     ]
    }
   ],
   "source": [
    "#Build up a sequential model to do BiLSTM\n",
    "\n",
    "lstm=Sequential()\n",
    "lstm.add(Embedding(n_words+1,embed_size,input_length=max_length,weights=[embedding_matrix], trainable=False))\n",
    "lstm.add(Bidirectional(LSTM(256,return_sequences=True)))\n",
    "lstm.add(Dropout(0.2))\n",
    "lstm.add(Conv1D(100,5,activation='relu'))\n",
    "lstm.add(MaxPooling1D(pool_size=4))\n",
    "lstm.add(LSTM(128))\n",
    "lstm.add(Dropout(0.4))\n",
    "lstm.add(Dense(1,activation='sigmoid'))\n",
    "\n",
    "lstm.summary()\n",
    "\n",
    "lstm.compile(loss='binary_crossentropy',optimizer='adam', metrics=['acc'])"
   ]
  },
  {
   "cell_type": "code",
   "execution_count": 18,
   "metadata": {
    "executionInfo": {
     "elapsed": 13,
     "status": "ok",
     "timestamp": 1622185592166,
     "user": {
      "displayName": "Zhaoyi Huang",
      "photoUrl": "",
      "userId": "07120073316656133052"
     },
     "user_tz": 420
    },
    "id": "jIBvkjWGqzQH"
   },
   "outputs": [],
   "source": [
    "# del embeddings_index\n",
    "# import gc\n",
    "# gc.collect()"
   ]
  },
  {
   "cell_type": "code",
   "execution_count": 19,
   "metadata": {
    "colab": {
     "base_uri": "https://localhost:8080/"
    },
    "executionInfo": {
     "elapsed": 702690,
     "status": "ok",
     "timestamp": 1622186294844,
     "user": {
      "displayName": "Zhaoyi Huang",
      "photoUrl": "",
      "userId": "07120073316656133052"
     },
     "user_tz": 420
    },
    "id": "rEdAmpA6q1aF",
    "outputId": "b2776403-c311-4b51-fd3c-05592b2a9a62"
   },
   "outputs": [
    {
     "name": "stdout",
     "output_type": "stream",
     "text": [
      "Epoch 1/5\n",
      "919/919 [==============================] - 165s 141ms/step - loss: 0.1663 - acc: 0.9418 - val_loss: 0.1164 - val_acc: 0.9558\n",
      "Epoch 2/5\n",
      "919/919 [==============================] - 129s 140ms/step - loss: 0.1098 - acc: 0.9568 - val_loss: 0.1059 - val_acc: 0.9584\n",
      "Epoch 3/5\n",
      "919/919 [==============================] - 128s 140ms/step - loss: 0.1035 - acc: 0.9592 - val_loss: 0.1041 - val_acc: 0.9592\n",
      "Epoch 4/5\n",
      "919/919 [==============================] - 130s 141ms/step - loss: 0.0992 - acc: 0.9607 - val_loss: 0.1005 - val_acc: 0.9603\n",
      "Epoch 5/5\n",
      "919/919 [==============================] - 128s 140ms/step - loss: 0.0946 - acc: 0.9621 - val_loss: 0.1004 - val_acc: 0.9597\n"
     ]
    }
   ],
   "source": [
    "history=lstm.fit(np.array(train_text), np.array(train_target), epochs = 5, validation_data=(np.array(cv_text),np.array(cv_target)), batch_size=1024,verbose=1)"
   ]
  },
  {
   "cell_type": "code",
   "execution_count": 20,
   "metadata": {
    "colab": {
     "base_uri": "https://localhost:8080/"
    },
    "executionInfo": {
     "elapsed": 10209,
     "status": "ok",
     "timestamp": 1622186305046,
     "user": {
      "displayName": "Zhaoyi Huang",
      "photoUrl": "",
      "userId": "07120073316656133052"
     },
     "user_tz": 420
    },
    "id": "AXVFNv80xJ9A",
    "outputId": "b95b3d61-3f39-42c9-dc0f-2fe650bcbdd9"
   },
   "outputs": [
    {
     "name": "stdout",
     "output_type": "stream",
     "text": [
      "F1 score at threshold 0.1 is 0.6084311632870865\n",
      "F1 score at threshold 0.11 is 0.6169587460542071\n",
      "F1 score at threshold 0.12 is 0.623192420632722\n",
      "F1 score at threshold 0.13 is 0.628404231375197\n",
      "F1 score at threshold 0.14 is 0.6337706788362807\n",
      "F1 score at threshold 0.15 is 0.6382461823229987\n",
      "F1 score at threshold 0.16 is 0.6422297692938284\n",
      "F1 score at threshold 0.17 is 0.6471112166735943\n",
      "F1 score at threshold 0.18 is 0.6500360663621063\n",
      "F1 score at threshold 0.19 is 0.6531654807516876\n",
      "F1 score at threshold 0.2 is 0.6565195957604142\n",
      "F1 score at threshold 0.21 is 0.659221362615423\n",
      "F1 score at threshold 0.22 is 0.6629596865916846\n",
      "F1 score at threshold 0.23 is 0.6650047938638542\n",
      "F1 score at threshold 0.24 is 0.6666236614630371\n",
      "F1 score at threshold 0.25 is 0.6683126502501463\n",
      "F1 score at threshold 0.26 is 0.6696785176455183\n",
      "F1 score at threshold 0.27 is 0.671241010754107\n",
      "F1 score at threshold 0.28 is 0.6731012447580377\n",
      "F1 score at threshold 0.29 is 0.6745339949041169\n",
      "F1 score at threshold 0.3 is 0.6759021489390458\n",
      "F1 score at threshold 0.31 is 0.6761846488544428\n",
      "F1 score at threshold 0.32 is 0.6773862470065001\n",
      "F1 score at threshold 0.33 is 0.6780548284887726\n",
      "F1 score at threshold 0.34 is 0.678229499098099\n",
      "F1 score at threshold 0.35 is 0.6788208996926516\n",
      "F1 score at threshold 0.36 is 0.6784735399536159\n",
      "F1 score at threshold 0.37 is 0.678652321630804\n",
      "F1 score at threshold 0.38 is 0.6779902940336854\n",
      "F1 score at threshold 0.39 is 0.6783659378596087\n",
      "F1 score at threshold 0.4 is 0.677014578951186\n",
      "F1 score at threshold 0.41 is 0.6770513383062746\n",
      "F1 score at threshold 0.42 is 0.6760625737898466\n",
      "F1 score at threshold 0.43 is 0.6759452217922\n",
      "F1 score at threshold 0.44 is 0.6750883525077074\n",
      "F1 score at threshold 0.45 is 0.6738998482549318\n",
      "F1 score at threshold 0.46 is 0.6729400963966031\n",
      "F1 score at threshold 0.47 is 0.6705255846260708\n",
      "F1 score at threshold 0.48 is 0.6694697500583975\n",
      "F1 score at threshold 0.49 is 0.6688112985484503\n",
      "F1 score at threshold 0.5 is 0.6660858545857754\n",
      "Best value [0.35, 0.6788208996926516]\n"
     ]
    }
   ],
   "source": [
    "from sklearn.metrics import f1_score\n",
    "cv_predictions = lstm.predict(cv_text, batch_size=512)\n",
    "\n",
    "thresholds = []\n",
    "for thresh in np.arange(0.1, 0.501, 0.01):\n",
    "    thresh = np.round(thresh, 2)\n",
    "    result = f1_score(cv_target, (cv_predictions>thresh).astype(int))\n",
    "    thresholds.append([thresh, result])\n",
    "    print(\"F1 score at threshold {} is {}\".format(thresh, result))\n",
    "\n",
    "thresholds.sort(key=lambda x: x[1], reverse=True)\n",
    "print(\"Best value {}\".format(thresholds[0]))\n",
    "best_thresh = thresholds[0]"
   ]
  },
  {
   "cell_type": "code",
   "execution_count": 21,
   "metadata": {
    "colab": {
     "base_uri": "https://localhost:8080/"
    },
    "executionInfo": {
     "elapsed": 14705,
     "status": "ok",
     "timestamp": 1622186319739,
     "user": {
      "displayName": "Zhaoyi Huang",
      "photoUrl": "",
      "userId": "07120073316656133052"
     },
     "user_tz": 420
    },
    "id": "9LHDWU0GxVVu",
    "outputId": "a806ded3-f0a4-433f-9208-045948edb5b4"
   },
   "outputs": [
    {
     "name": "stdout",
     "output_type": "stream",
     "text": [
      "0.6717309662000682\n"
     ]
    }
   ],
   "source": [
    "total_predictions=lstm.predict(test_input_padded, batch_size=512)\n",
    "test_labels=list(test_data['target'])\n",
    "predictions1 = (total_predictions>best_thresh).astype(int)\n",
    "res=f1_score(test_labels, predictions1[:,0])\n",
    "print(res)"
   ]
  }
 ],
 "metadata": {
  "accelerator": "GPU",
  "colab": {
   "name": "BiLSTM_Keras.ipynb",
   "provenance": []
  },
  "kernelspec": {
   "display_name": "Python 3",
   "language": "python",
   "name": "python3"
  },
  "language_info": {
   "codemirror_mode": {
    "name": "ipython",
    "version": 3
   },
   "file_extension": ".py",
   "mimetype": "text/x-python",
   "name": "python",
   "nbconvert_exporter": "python",
   "pygments_lexer": "ipython3",
   "version": "3.8.5"
  }
 },
 "nbformat": 4,
 "nbformat_minor": 1
}
