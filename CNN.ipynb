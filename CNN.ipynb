{
 "cells": [
  {
   "cell_type": "code",
   "execution_count": null,
   "metadata": {
    "id": "reHLNiQ70_jZ"
   },
   "outputs": [],
   "source": [
    "from tensorflow.keras.preprocessing.text import Tokenizer\n",
    "from tensorflow.keras.preprocessing.sequence import pad_sequences\n",
    "import tensorflow as tf\n",
    "from sklearn.model_selection import train_test_split\n",
    "import numpy as np\n",
    "import pandas as pd"
   ]
  },
  {
   "cell_type": "code",
   "execution_count": null,
   "metadata": {
    "colab": {
     "base_uri": "https://localhost:8080/"
    },
    "executionInfo": {
     "elapsed": 20022,
     "status": "ok",
     "timestamp": 1622389498361,
     "user": {
      "displayName": "SHUYU WU",
      "photoUrl": "",
      "userId": "04421167580140872051"
     },
     "user_tz": -480
    },
    "id": "VcV6awgWyS7H",
    "outputId": "7e0ef848-feea-4640-ae4d-c6ca575deb0a"
   },
   "outputs": [
    {
     "name": "stdout",
     "output_type": "stream",
     "text": [
      "Mounted at /content/drive\n"
     ]
    }
   ],
   "source": [
    "# from google.colab import drive\n",
    "# drive.mount('/content/drive')"
   ]
  },
  {
   "cell_type": "code",
   "execution_count": null,
   "metadata": {
    "id": "38abFt4bibY4"
   },
   "outputs": [],
   "source": [
    "train_data = pd.read_csv('./data/train.csv')\n",
    "test_data = pd.read_csv('./data/test.csv')\n"
   ]
  },
  {
   "cell_type": "code",
   "execution_count": null,
   "metadata": {
    "id": "As7F7E6fjqUC"
   },
   "outputs": [],
   "source": [
    "train_input = list(train_data['question_text'])\n",
    "train_label = list(train_data['target'])\n",
    "\n",
    "test_input = list(test_data['question_text'])"
   ]
  },
  {
   "cell_type": "code",
   "execution_count": null,
   "metadata": {
    "colab": {
     "base_uri": "https://localhost:8080/"
    },
    "executionInfo": {
     "elapsed": 100427,
     "status": "ok",
     "timestamp": 1622389613473,
     "user": {
      "displayName": "SHUYU WU",
      "photoUrl": "",
      "userId": "04421167580140872051"
     },
     "user_tz": -480
    },
    "id": "q7OD7O3ojudW",
    "outputId": "13241da5-45a5-460e-b20b-308c80f47eab"
   },
   "outputs": [
    {
     "name": "stdout",
     "output_type": "stream",
     "text": [
      "[nltk_data] Downloading package stopwords to /root/nltk_data...\n",
      "[nltk_data]   Unzipping corpora/stopwords.zip.\n"
     ]
    }
   ],
   "source": [
    "#remove stop words\n",
    "import nltk\n",
    "nltk.download('stopwords')\n",
    "from nltk.corpus import stopwords\n",
    "stop=stopwords.words('english') \n",
    "\n",
    "def remove_stop_words(x):\n",
    "    for word in stop:\n",
    "        token = \" \" + word + \" \"\n",
    "        if (x.find(token) != -1):\n",
    "            x = x.replace(token, \" \")\n",
    "    return x\n",
    "\n",
    "train_input_rsw = list(map(remove_stop_words, train_input))\n",
    "test_input_rsw = list(map(remove_stop_words, test_input))"
   ]
  },
  {
   "cell_type": "code",
   "execution_count": null,
   "metadata": {
    "id": "aWmBKPD1llau"
   },
   "outputs": [],
   "source": [
    "max_features=100000\n",
    "embed_size = 300\n",
    "max_length = 60 "
   ]
  },
  {
   "cell_type": "code",
   "execution_count": null,
   "metadata": {
    "id": "bF_hLNh3loF9"
   },
   "outputs": [],
   "source": [
    "\n",
    "embeddings=open(\"./data/embeddings/glove.840B.300d/glove.840B.300d.txt\", 'r')\n"
   ]
  },
  {
   "cell_type": "code",
   "execution_count": null,
   "metadata": {
    "id": "wn5jUZJInZPx"
   },
   "outputs": [],
   "source": [
    "def get_coefs(word,*arr): \n",
    "    return word, np.asarray(arr, dtype='float32')\n",
    "embeddings_index = dict(get_coefs(*o.split(\" \")) for o in embeddings)"
   ]
  },
  {
   "cell_type": "code",
   "execution_count": null,
   "metadata": {
    "colab": {
     "base_uri": "https://localhost:8080/"
    },
    "executionInfo": {
     "elapsed": 4,
     "status": "ok",
     "timestamp": 1622362511907,
     "user": {
      "displayName": "SHUYU WU",
      "photoUrl": "",
      "userId": "04421167580140872051"
     },
     "user_tz": -480
    },
    "id": "HlhJh3kCVL2R",
    "outputId": "580705c4-0895-48f6-f3d9-a78ad15a2ca6"
   },
   "outputs": [
    {
     "name": "stdout",
     "output_type": "stream",
     "text": [
      "<class 'numpy.float32'>\n"
     ]
    }
   ],
   "source": [
    "print(type(embeddings_index['this'][1]))"
   ]
  },
  {
   "cell_type": "code",
   "execution_count": null,
   "metadata": {
    "id": "bp7o_4rvnhMh"
   },
   "outputs": [],
   "source": [
    "tokenizer=Tokenizer(num_words=max_features)\n",
    "\n",
    "tokenizer.fit_on_texts(train_input_rsw)\n",
    "\n",
    "word_index = tokenizer.word_index\n",
    "n_words=min(max_features,len(word_index))\n",
    "\n",
    "embedding_matrix = np.zeros((n_words+1, 300))\n",
    "\n",
    "for word, i in word_index.items():\n",
    "    if i >= max_features: \n",
    "        continue\n",
    "    embedding_vector = embeddings_index.get(word)\n",
    "    if embedding_vector is not None: \n",
    "        embedding_matrix[i] = embedding_vector"
   ]
  },
  {
   "cell_type": "code",
   "execution_count": null,
   "metadata": {
    "colab": {
     "base_uri": "https://localhost:8080/"
    },
    "executionInfo": {
     "elapsed": 27101,
     "status": "ok",
     "timestamp": 1622389818139,
     "user": {
      "displayName": "SHUYU WU",
      "photoUrl": "",
      "userId": "04421167580140872051"
     },
     "user_tz": -480
    },
    "id": "wusi8R48nB_o",
    "outputId": "c6dd2c1f-806c-4bae-ee48-a71c4d5dd2c0"
   },
   "outputs": [
    {
     "name": "stdout",
     "output_type": "stream",
     "text": [
      "(1306122, 60)\n",
      "(375806, 60)\n"
     ]
    }
   ],
   "source": [
    "sequences = tokenizer.texts_to_sequences(train_input_rsw)\n",
    "\n",
    "train_input_padded = pad_sequences(sequences, maxlen=max_length, padding='post', truncating='post')\n",
    "print(train_input_padded.shape)\n",
    "\n",
    "sequences = tokenizer.texts_to_sequences(test_input_rsw)\n",
    "test_input_padded = pad_sequences(sequences, maxlen=max_length, padding='post', truncating='post')\n",
    "print(test_input_padded.shape)"
   ]
  },
  {
   "cell_type": "code",
   "execution_count": null,
   "metadata": {
    "id": "QUclEQCBolmj"
   },
   "outputs": [],
   "source": [
    "train_text, cv_text, train_target, cv_target = train_test_split(train_input_padded, train_label, test_size = 0.01, random_state=2)"
   ]
  },
  {
   "cell_type": "code",
   "execution_count": null,
   "metadata": {
    "id": "TTS6lJ_Zo2Ba"
   },
   "outputs": [],
   "source": [
    "from keras.models import Sequential\n",
    "from keras.layers import Embedding, Conv1D, GlobalMaxPooling1D, Dense,MaxPooling1D"
   ]
  },
  {
   "cell_type": "code",
   "execution_count": null,
   "metadata": {
    "id": "JpC5AcyLo4Ku"
   },
   "outputs": [],
   "source": [
    "embedding_dim = 100\n",
    "\n",
    "cnn = Sequential()\n",
    "cnn.add(Embedding(n_words+1,embed_size,input_length=max_length,weights=[embedding_matrix], trainable=False))\n",
    "cnn.add(Conv1D(128, 5, activation='relu'))\n",
    "cnn.add(MaxPooling1D(5))\n",
    "cnn.add(Conv1D(128, 5, activation='relu'))\n",
    "cnn.add(GlobalMaxPooling1D())\n",
    "cnn.add(Dense(10, activation='relu'))\n",
    "cnn.add(Dense(1, activation='sigmoid'))\n",
    "cnn.compile(optimizer='adam',\n",
    "              loss='binary_crossentropy',\n",
    "              metrics=['accuracy'])"
   ]
  },
  {
   "cell_type": "code",
   "execution_count": null,
   "metadata": {
    "colab": {
     "base_uri": "https://localhost:8080/"
    },
    "executionInfo": {
     "elapsed": 319,
     "status": "ok",
     "timestamp": 1622389913380,
     "user": {
      "displayName": "SHUYU WU",
      "photoUrl": "",
      "userId": "04421167580140872051"
     },
     "user_tz": -480
    },
    "id": "Gn0x7ZfN0CnT",
    "outputId": "1bf85eda-3ddb-49df-95b6-1f7100bea4bb"
   },
   "outputs": [
    {
     "name": "stdout",
     "output_type": "stream",
     "text": [
      "Model: \"sequential_2\"\n",
      "_________________________________________________________________\n",
      "Layer (type)                 Output Shape              Param #   \n",
      "=================================================================\n",
      "embedding_1 (Embedding)      (None, 60, 300)           30000300  \n",
      "_________________________________________________________________\n",
      "conv1d_1 (Conv1D)            (None, 56, 128)           192128    \n",
      "_________________________________________________________________\n",
      "max_pooling1d (MaxPooling1D) (None, 11, 128)           0         \n",
      "_________________________________________________________________\n",
      "conv1d_2 (Conv1D)            (None, 7, 128)            82048     \n",
      "_________________________________________________________________\n",
      "global_max_pooling1d (Global (None, 128)               0         \n",
      "_________________________________________________________________\n",
      "dense (Dense)                (None, 10)                1290      \n",
      "_________________________________________________________________\n",
      "dense_1 (Dense)              (None, 1)                 11        \n",
      "=================================================================\n",
      "Total params: 30,275,777\n",
      "Trainable params: 275,477\n",
      "Non-trainable params: 30,000,300\n",
      "_________________________________________________________________\n"
     ]
    }
   ],
   "source": [
    "cnn.summary()"
   ]
  },
  {
   "cell_type": "code",
   "execution_count": null,
   "metadata": {
    "colab": {
     "base_uri": "https://localhost:8080/"
    },
    "executionInfo": {
     "elapsed": 5546,
     "status": "ok",
     "timestamp": 1621229517412,
     "user": {
      "displayName": "SHUYU WU",
      "photoUrl": "",
      "userId": "04421167580140872051"
     },
     "user_tz": -480
    },
    "id": "jIBvkjWGqzQH",
    "outputId": "a65a32d2-80ef-4d7f-b052-463db0fcba73"
   },
   "outputs": [
    {
     "data": {
      "text/plain": [
       "748"
      ]
     },
     "execution_count": 15,
     "metadata": {
      "tags": []
     },
     "output_type": "execute_result"
    }
   ],
   "source": [
    "del embeddings_index\n",
    "import gc\n",
    "gc.collect()"
   ]
  },
  {
   "cell_type": "code",
   "execution_count": null,
   "metadata": {
    "colab": {
     "base_uri": "https://localhost:8080/"
    },
    "executionInfo": {
     "elapsed": 270999,
     "status": "ok",
     "timestamp": 1622390643948,
     "user": {
      "displayName": "SHUYU WU",
      "photoUrl": "",
      "userId": "04421167580140872051"
     },
     "user_tz": -480
    },
    "id": "rEdAmpA6q1aF",
    "outputId": "b0f33fed-bfa0-4f4a-934b-564717ea26e0"
   },
   "outputs": [
    {
     "name": "stdout",
     "output_type": "stream",
     "text": [
      "Epoch 1/5\n",
      "1263/1263 [==============================] - 55s 43ms/step - loss: 0.1417 - accuracy: 0.9448 - val_loss: 0.1109 - val_accuracy: 0.9557\n",
      "Epoch 2/5\n",
      "1263/1263 [==============================] - 54s 42ms/step - loss: 0.1052 - accuracy: 0.9577 - val_loss: 0.1069 - val_accuracy: 0.9578\n",
      "Epoch 3/5\n",
      "1263/1263 [==============================] - 54s 43ms/step - loss: 0.0950 - accuracy: 0.9616 - val_loss: 0.1076 - val_accuracy: 0.9583\n",
      "Epoch 4/5\n",
      "1263/1263 [==============================] - 53s 42ms/step - loss: 0.0864 - accuracy: 0.9649 - val_loss: 0.1124 - val_accuracy: 0.9573\n",
      "Epoch 5/5\n",
      "1263/1263 [==============================] - 54s 43ms/step - loss: 0.0777 - accuracy: 0.9685 - val_loss: 0.1146 - val_accuracy: 0.9561\n"
     ]
    }
   ],
   "source": [
    "history=cnn.fit(np.array(train_text), np.array(train_target), epochs = 5, validation_data=(np.array(cv_text),np.array(cv_target)), batch_size=1024,verbose=1)"
   ]
  },
  {
   "cell_type": "code",
   "execution_count": null,
   "metadata": {
    "colab": {
     "base_uri": "https://localhost:8080/"
    },
    "executionInfo": {
     "elapsed": 1422,
     "status": "ok",
     "timestamp": 1622390649325,
     "user": {
      "displayName": "SHUYU WU",
      "photoUrl": "",
      "userId": "04421167580140872051"
     },
     "user_tz": -480
    },
    "id": "AXVFNv80xJ9A",
    "outputId": "6afb24cd-d7f4-4039-d8b5-f0735513db02"
   },
   "outputs": [
    {
     "name": "stdout",
     "output_type": "stream",
     "text": [
      "F1 score at threshold 0.1 is 0.5588499550763703\n",
      "F1 score at threshold 0.11 is 0.5660550458715596\n",
      "F1 score at threshold 0.12 is 0.5703564727954972\n",
      "F1 score at threshold 0.13 is 0.5780952380952381\n",
      "F1 score at threshold 0.14 is 0.5852713178294574\n",
      "F1 score at threshold 0.15 is 0.5899705014749262\n",
      "F1 score at threshold 0.16 is 0.5949177877428999\n",
      "F1 score at threshold 0.17 is 0.5969696969696969\n",
      "F1 score at threshold 0.18 is 0.6003078501795792\n",
      "F1 score at threshold 0.19 is 0.6020725388601037\n",
      "F1 score at threshold 0.2 is 0.6018907563025211\n",
      "F1 score at threshold 0.21 is 0.6055437100213221\n",
      "F1 score at threshold 0.22 is 0.6066810344827586\n",
      "F1 score at threshold 0.23 is 0.6095030038230476\n",
      "F1 score at threshold 0.24 is 0.6145313366611204\n",
      "F1 score at threshold 0.25 is 0.6167597765363128\n",
      "F1 score at threshold 0.26 is 0.6148610323312536\n",
      "F1 score at threshold 0.27 is 0.6174112256586483\n",
      "F1 score at threshold 0.28 is 0.6176980913823019\n",
      "F1 score at threshold 0.29 is 0.6214160327677004\n",
      "F1 score at threshold 0.3 is 0.6202830188679245\n",
      "F1 score at threshold 0.31 is 0.6166666666666668\n",
      "F1 score at threshold 0.32 is 0.6189903846153846\n",
      "F1 score at threshold 0.33 is 0.6217364905889496\n",
      "F1 score at threshold 0.34 is 0.6205630354957161\n",
      "F1 score at threshold 0.35 is 0.6153846153846154\n",
      "F1 score at threshold 0.36 is 0.615288999378496\n",
      "F1 score at threshold 0.37 is 0.6180904522613065\n",
      "F1 score at threshold 0.38 is 0.6184126984126983\n",
      "F1 score at threshold 0.39 is 0.6184379001280409\n",
      "F1 score at threshold 0.4 is 0.6154838709677419\n",
      "F1 score at threshold 0.41 is 0.6140808344198175\n",
      "F1 score at threshold 0.42 is 0.6136662286465178\n",
      "F1 score at threshold 0.43 is 0.6100795755968169\n",
      "F1 score at threshold 0.44 is 0.608288770053476\n",
      "F1 score at threshold 0.45 is 0.6110363391655451\n",
      "F1 score at threshold 0.46 is 0.6082824168363882\n",
      "F1 score at threshold 0.47 is 0.6049382716049383\n",
      "F1 score at threshold 0.48 is 0.6013793103448275\n",
      "F1 score at threshold 0.49 is 0.5998608211551844\n",
      "F1 score at threshold 0.5 is 0.5957746478873239\n",
      "Best value [0.33, 0.6217364905889496]\n"
     ]
    }
   ],
   "source": [
    "from sklearn.metrics import f1_score\n",
    "cv_predictions = cnn.predict(cv_text, batch_size=512)\n",
    "\n",
    "thresholds = []\n",
    "for thresh in np.arange(0.1, 0.501, 0.01):\n",
    "    thresh = np.round(thresh, 2)\n",
    "    result = f1_score(cv_target, (cv_predictions>thresh).astype(int))\n",
    "    thresholds.append([thresh, result])\n",
    "    print(\"F1 score at threshold {} is {}\".format(thresh, result))\n",
    "\n",
    "thresholds.sort(key=lambda x: x[1], reverse=True)\n",
    "print(\"Best value {}\".format(thresholds[0]))\n",
    "best_thresh = thresholds[0]"
   ]
  },
  {
   "cell_type": "code",
   "execution_count": null,
   "metadata": {
    "id": "9LHDWU0GxVVu"
   },
   "outputs": [],
   "source": []
  }
 ],
 "metadata": {
  "accelerator": "GPU",
  "colab": {
   "collapsed_sections": [],
   "name": "CNN_NLP.ipynb",
   "provenance": [
    {
     "file_id": "13zP0BWAWKVQzY6HcIa-GCVNfN4Mr7jdF",
     "timestamp": 1620664348882
    }
   ]
  },
  "kernelspec": {
   "display_name": "Python 3",
   "language": "python",
   "name": "python3"
  },
  "language_info": {
   "codemirror_mode": {
    "name": "ipython",
    "version": 3
   },
   "file_extension": ".py",
   "mimetype": "text/x-python",
   "name": "python",
   "nbconvert_exporter": "python",
   "pygments_lexer": "ipython3",
   "version": "3.8.5"
  }
 },
 "nbformat": 4,
 "nbformat_minor": 1
}
