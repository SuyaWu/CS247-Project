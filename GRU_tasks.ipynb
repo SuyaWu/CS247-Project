{
  "nbformat": 4,
  "nbformat_minor": 0,
  "metadata": {
    "colab": {
      "name": "GRU tasks.ipynb",
      "provenance": [],
      "collapsed_sections": []
    },
    "kernelspec": {
      "name": "python3",
      "display_name": "Python 3"
    },
    "language_info": {
      "name": "python"
    },
    "accelerator": "GPU"
  },
  "cells": [
    {
      "cell_type": "code",
      "metadata": {
        "id": "reHLNiQ70_jZ"
      },
      "source": [
        "from tensorflow.keras.preprocessing.text import Tokenizer\n",
        "from tensorflow.keras.preprocessing.sequence import pad_sequences\n",
        "import tensorflow as tf\n",
        "from sklearn.model_selection import train_test_split\n",
        "import numpy as np\n",
        "import pandas as pd"
      ],
      "execution_count": null,
      "outputs": []
    },
    {
      "cell_type": "code",
      "metadata": {
        "id": "38abFt4bibY4"
      },
      "source": [
        "train_data = pd.read_csv('./data/train.csv')\n",
        "test_data = pd.read_csv('./data/test.csv')\n"
      ],
      "execution_count": null,
      "outputs": []
    },
    {
      "cell_type": "code",
      "metadata": {
        "id": "As7F7E6fjqUC"
      },
      "source": [
        "train_input = list(train_data['question_text'])\n",
        "train_label = list(train_data['target'])\n",
        "\n",
        "test_input = list(test_data['question_text'])"
      ],
      "execution_count": null,
      "outputs": []
    },
    {
      "cell_type": "code",
      "metadata": {
        "colab": {
          "base_uri": "https://localhost:8080/"
        },
        "id": "q7OD7O3ojudW",
        "outputId": "0a1edbc9-9953-4c7b-f7e3-0e76d86d4fb1"
      },
      "source": [
        "#remove stop words\n",
        "import nltk\n",
        "nltk.download('stopwords')\n",
        "from nltk.corpus import stopwords\n",
        "stop=stopwords.words('english') \n",
        "\n",
        "def remove_stop_words(x):\n",
        "    for word in stop:\n",
        "        token = \" \" + word + \" \"\n",
        "        if (x.find(token) != -1):\n",
        "            x = x.replace(token, \" \")\n",
        "    return x\n",
        "\n",
        "train_input_rsw = list(map(remove_stop_words, train_input))\n",
        "test_input_rsw = list(map(remove_stop_words, test_input))"
      ],
      "execution_count": null,
      "outputs": [
        {
          "output_type": "stream",
          "text": [
            "[nltk_data] Downloading package stopwords to /root/nltk_data...\n",
            "[nltk_data]   Package stopwords is already up-to-date!\n"
          ],
          "name": "stdout"
        }
      ]
    },
    {
      "cell_type": "code",
      "metadata": {
        "id": "aWmBKPD1llau"
      },
      "source": [
        "max_features=100000\n",
        "embed_size = 300\n",
        "max_length = 60 "
      ],
      "execution_count": null,
      "outputs": []
    },
    {
      "cell_type": "code",
      "metadata": {
        "id": "bF_hLNh3loF9"
      },
      "source": [
        "\n",
        "embeddings=open(\"./data/embeddings/glove.840B.300d/glove.840B.300d.txt\", 'r')\n"
      ],
      "execution_count": null,
      "outputs": []
    },
    {
      "cell_type": "code",
      "metadata": {
        "id": "wn5jUZJInZPx"
      },
      "source": [
        "def get_coefs(word,*arr): \n",
        "    return word, np.asarray(arr, dtype='float32')\n",
        "embeddings_index = dict(get_coefs(*o.split(\" \")) for o in embeddings)"
      ],
      "execution_count": null,
      "outputs": []
    },
    {
      "cell_type": "code",
      "metadata": {
        "id": "bp7o_4rvnhMh"
      },
      "source": [
        "tokenizer=Tokenizer(num_words=max_features)\n",
        "\n",
        "tokenizer.fit_on_texts(train_input_rsw)\n",
        "\n",
        "word_index = tokenizer.word_index\n",
        "n_words=min(max_features,len(word_index))\n",
        "\n",
        "embedding_matrix = np.zeros((n_words+1, 300))\n",
        "\n",
        "for word, i in word_index.items():\n",
        "    if i >= max_features: \n",
        "        continue\n",
        "    embedding_vector = embeddings_index.get(word)\n",
        "    if embedding_vector is not None: \n",
        "        embedding_matrix[i] = embedding_vector"
      ],
      "execution_count": null,
      "outputs": []
    },
    {
      "cell_type": "code",
      "metadata": {
        "colab": {
          "base_uri": "https://localhost:8080/"
        },
        "id": "wusi8R48nB_o",
        "outputId": "e8a34c21-db22-4360-930c-a99864501aff"
      },
      "source": [
        "sequences = tokenizer.texts_to_sequences(train_input_rsw)\n",
        "\n",
        "train_input_padded = pad_sequences(sequences, maxlen=max_length, padding='post', truncating='post')\n",
        "print(train_input_padded.shape)\n",
        "\n",
        "sequences = tokenizer.texts_to_sequences(test_input_rsw)\n",
        "test_input_padded = pad_sequences(sequences, maxlen=max_length, padding='post', truncating='post')\n",
        "print(test_input_padded.shape)"
      ],
      "execution_count": null,
      "outputs": [
        {
          "output_type": "stream",
          "text": [
            "(1306122, 60)\n",
            "(375806, 60)\n"
          ],
          "name": "stdout"
        }
      ]
    },
    {
      "cell_type": "code",
      "metadata": {
        "id": "QUclEQCBolmj"
      },
      "source": [
        "train_text, cv_text, train_target, cv_target = train_test_split(train_input_padded, train_label, test_size = 0.1, random_state=2)"
      ],
      "execution_count": null,
      "outputs": []
    },
    {
      "cell_type": "code",
      "metadata": {
        "id": "TTS6lJ_Zo2Ba"
      },
      "source": [
        "from keras.models import Sequential\n",
        "from keras.layers import Embedding,GRU,Dropout,Conv1D,MaxPooling1D,Dense"
      ],
      "execution_count": null,
      "outputs": []
    },
    {
      "cell_type": "code",
      "metadata": {
        "colab": {
          "base_uri": "https://localhost:8080/"
        },
        "id": "JpC5AcyLo4Ku",
        "outputId": "af570da0-7e99-405f-d0ca-43732a725d49"
      },
      "source": [
        "gru_model=Sequential()\n",
        "gru_model.add(Embedding(n_words+1,300,input_length=max_length,weights=[embedding_matrix], trainable=False))\n",
        "gru_model.add(GRU(256,return_sequences=True))\n",
        "gru_model.add(Dropout(0.2))\n",
        "gru_model.add(Conv1D(100,5,activation='relu'))\n",
        "gru_model.add(MaxPooling1D(pool_size=4))\n",
        "gru_model.add(Dropout(0.4))\n",
        "gru_model.add(Dense(1,activation='sigmoid'))\n",
        "\n",
        "gru_model.summary()\n",
        "\n",
        "gru_model.compile(loss='binary_crossentropy',optimizer='adam', metrics=['acc'])"
      ],
      "execution_count": null,
      "outputs": [
        {
          "output_type": "stream",
          "text": [
            "Model: \"sequential\"\n",
            "_________________________________________________________________\n",
            "Layer (type)                 Output Shape              Param #   \n",
            "=================================================================\n",
            "embedding (Embedding)        (None, 60, 300)           30000300  \n",
            "_________________________________________________________________\n",
            "bidirectional (Bidirectional (None, 60, 512)           1140736   \n",
            "_________________________________________________________________\n",
            "dropout (Dropout)            (None, 60, 512)           0         \n",
            "_________________________________________________________________\n",
            "conv1d (Conv1D)              (None, 56, 100)           256100    \n",
            "_________________________________________________________________\n",
            "max_pooling1d (MaxPooling1D) (None, 14, 100)           0         \n",
            "_________________________________________________________________\n",
            "lstm_1 (LSTM)                (None, 128)               117248    \n",
            "_________________________________________________________________\n",
            "dropout_1 (Dropout)          (None, 128)               0         \n",
            "_________________________________________________________________\n",
            "dense (Dense)                (None, 1)                 129       \n",
            "=================================================================\n",
            "Total params: 31,514,513\n",
            "Trainable params: 1,514,213\n",
            "Non-trainable params: 30,000,300\n",
            "_________________________________________________________________\n"
          ],
          "name": "stdout"
        }
      ]
    },
    {
      "cell_type": "code",
      "metadata": {
        "colab": {
          "base_uri": "https://localhost:8080/"
        },
        "id": "jIBvkjWGqzQH",
        "outputId": "626d617b-49db-496b-adb4-4b514be40084"
      },
      "source": [
        "del embeddings_index\n",
        "import gc\n",
        "gc.collect()"
      ],
      "execution_count": null,
      "outputs": [
        {
          "output_type": "execute_result",
          "data": {
            "text/plain": [
              "7569"
            ]
          },
          "metadata": {
            "tags": []
          },
          "execution_count": 22
        }
      ]
    },
    {
      "cell_type": "code",
      "metadata": {
        "colab": {
          "base_uri": "https://localhost:8080/"
        },
        "id": "rEdAmpA6q1aF",
        "outputId": "0bba5c6e-7e4e-4496-9098-5870012b5c96"
      },
      "source": [
        "history=gru_model.fit(np.array(train_text), np.array(train_target), epochs = 5, validation_data=(np.array(cv_text),np.array(cv_target)), batch_size=1024,verbose=1)"
      ],
      "execution_count": null,
      "outputs": [
        {
          "output_type": "stream",
          "text": [
            "Epoch 1/5\n",
            "1148/1148 [==============================] - 282s 215ms/step - loss: 0.1836 - acc: 0.9438 - val_loss: 0.1097 - val_acc: 0.9567\n",
            "Epoch 2/5\n",
            "1148/1148 [==============================] - 246s 215ms/step - loss: 0.1080 - acc: 0.9576 - val_loss: 0.1052 - val_acc: 0.9585\n",
            "Epoch 3/5\n",
            "1148/1148 [==============================] - 245s 213ms/step - loss: 0.1031 - acc: 0.9595 - val_loss: 0.1031 - val_acc: 0.9593\n",
            "Epoch 4/5\n",
            "1148/1148 [==============================] - 247s 215ms/step - loss: 0.0979 - acc: 0.9612 - val_loss: 0.1022 - val_acc: 0.9595\n",
            "Epoch 5/5\n",
            "1148/1148 [==============================] - 247s 215ms/step - loss: 0.0938 - acc: 0.9626 - val_loss: 0.1026 - val_acc: 0.9590\n"
          ],
          "name": "stdout"
        }
      ]
    },
    {
      "cell_type": "code",
      "metadata": {
        "colab": {
          "base_uri": "https://localhost:8080/"
        },
        "id": "AXVFNv80xJ9A",
        "outputId": "0176dc21-1ed1-481f-9b44-1879a795f564"
      },
      "source": [
        "from sklearn.metrics import f1_score\n",
        "cv_predictions = gru_model.predict(cv_text, batch_size=512)\n",
        "\n",
        "thresholds = []\n",
        "for thresh in np.arange(0.1, 0.501, 0.01):\n",
        "    thresh = np.round(thresh, 2)\n",
        "    result = f1_score(cv_target, (cv_predictions>thresh).astype(int))\n",
        "    thresholds.append([thresh, result])\n",
        "    print(\"F1 score at threshold {} is {}\".format(thresh, result))\n",
        "\n",
        "thresholds.sort(key=lambda x: x[1], reverse=True)\n",
        "print(\"Best value {}\".format(thresholds[0]))\n",
        "best_thresh = thresholds[0]"
      ],
      "execution_count": null,
      "outputs": [
        {
          "output_type": "stream",
          "text": [
            "F1 score at threshold 0.1 is 0.6103786567230435\n",
            "F1 score at threshold 0.11 is 0.6148435386418974\n",
            "F1 score at threshold 0.12 is 0.6206266557047593\n",
            "F1 score at threshold 0.13 is 0.6235962844863441\n",
            "F1 score at threshold 0.14 is 0.6268405553218342\n",
            "F1 score at threshold 0.15 is 0.6304245060035927\n",
            "F1 score at threshold 0.16 is 0.6340110021525951\n",
            "F1 score at threshold 0.17 is 0.6373084545850052\n",
            "F1 score at threshold 0.18 is 0.6400351614005958\n",
            "F1 score at threshold 0.19 is 0.6438288643533122\n",
            "F1 score at threshold 0.2 is 0.6468715806226997\n",
            "F1 score at threshold 0.21 is 0.6489879965848024\n",
            "F1 score at threshold 0.22 is 0.6503801317790168\n",
            "F1 score at threshold 0.23 is 0.6517751934013013\n",
            "F1 score at threshold 0.24 is 0.6538600942370424\n",
            "F1 score at threshold 0.25 is 0.6555933979565104\n",
            "F1 score at threshold 0.26 is 0.6562466885662817\n",
            "F1 score at threshold 0.27 is 0.6580017115960635\n",
            "F1 score at threshold 0.28 is 0.6590626520352453\n",
            "F1 score at threshold 0.29 is 0.6603403141361256\n",
            "F1 score at threshold 0.3 is 0.6607260726072607\n",
            "F1 score at threshold 0.31 is 0.6619248721938209\n",
            "F1 score at threshold 0.32 is 0.6629933655684246\n",
            "F1 score at threshold 0.33 is 0.6625348268607494\n",
            "F1 score at threshold 0.34 is 0.663475402272334\n",
            "F1 score at threshold 0.35 is 0.6625788367203924\n",
            "F1 score at threshold 0.36 is 0.6616762937639986\n",
            "F1 score at threshold 0.37 is 0.6625482625482626\n",
            "F1 score at threshold 0.38 is 0.662920676669257\n",
            "F1 score at threshold 0.39 is 0.6625390718922819\n",
            "F1 score at threshold 0.4 is 0.6621482602118003\n",
            "F1 score at threshold 0.41 is 0.6615862951899043\n",
            "F1 score at threshold 0.42 is 0.6604885233828403\n",
            "F1 score at threshold 0.43 is 0.6597823398466486\n",
            "F1 score at threshold 0.44 is 0.6588029707295763\n",
            "F1 score at threshold 0.45 is 0.6568929717485685\n",
            "F1 score at threshold 0.46 is 0.6560081207968531\n",
            "F1 score at threshold 0.47 is 0.6553686768561744\n",
            "F1 score at threshold 0.48 is 0.6545524840518074\n",
            "F1 score at threshold 0.49 is 0.6527272727272728\n",
            "F1 score at threshold 0.5 is 0.6498265820299719\n",
            "Best value [0.34, 0.663475402272334]\n"
          ],
          "name": "stdout"
        }
      ]
    },
    {
      "cell_type": "code",
      "metadata": {
        "id": "9LHDWU0GxVVu"
      },
      "source": [
        ""
      ],
      "execution_count": null,
      "outputs": []
    }
  ]
}
